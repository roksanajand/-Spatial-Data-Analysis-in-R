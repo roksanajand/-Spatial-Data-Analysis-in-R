{
 "cells": [
  {
   "cell_type": "code",
   "execution_count": null,
   "id": "5d3964c3-d105-436f-b1f4-e84aaea660a0",
   "metadata": {},
   "outputs": [],
   "source": []
  }
 ],
 "metadata": {
  "kernelspec": {
   "display_name": "",
   "name": ""
  },
  "language_info": {
   "name": ""
  }
 },
 "nbformat": 4,
 "nbformat_minor": 5
}
